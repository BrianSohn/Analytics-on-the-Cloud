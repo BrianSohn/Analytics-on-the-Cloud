{
 "cells": [
  {
   "cell_type": "markdown",
   "metadata": {},
   "source": [
    "<h1>Problem 1</h1>"
   ]
  },
  {
   "cell_type": "markdown",
   "metadata": {},
   "source": [
    "<p>\n",
    "    Write a function, <b>isThreeSorted</b>, that behaves like the isSorted function we\n",
    "covered in class except that it works on three items of an array rather than two items.\n",
    "The function should take two arguments, an array and a predicate function on three\n",
    "values, and it should return true or false if the predicate function is satisfied for all\n",
    "triplets in the array. If the array has less than 3 elements, then isThreeSorted should\n",
    "return false.\n",
    "\n",
    "Test your function by writing three additional functions, each of which take an array as an argument, call three sorted with the appropriate predicate function, and return true or false if the condition is satisfied for the array.\n",
    "\n",
    "\n",
    "<p>\n",
    "<ol>\n",
    "    <li><b>alpha(x: Array[String])</b> tests alphabetical sort on Array[String] </li>\n",
    "    <ul><li>Array(\"John\",\"Mary\",\"Qing\") returns true</li>\n",
    "        <li>Array(\"James\", \"Jones\", \"Earl\") returns false</li>\n",
    "        <li></li>\n",
    "    </ul>\n",
    "    <li><b>len(x: Array[String])</b> tests length sort on Array[String]</li>\n",
    "    <ul><li>Array(\"John\", \"Basquiat\", \"Annapurna\") returns true</li>\n",
    "        <li>Array(\"John\", \"Basquiat\", \"Annapurna\", \"Yoda\") returns false</li>\n",
    "        <li></li>\n",
    "    </ul>\n",
    "    <li><b>fib_like_test(x: Array[Int])</b> tests whether Array[Int] satisfies the conditions a fibonacci like condition of 3 or more elements. I.e., every element is the sum of the previous two elements, except for the first two elements in the series. Note that this is not testing whether the array contains a segment of the fibonacci series (see the last example). </li>  \n",
    "    <ul>\n",
    "        <li>Array(1,1,2,3,5,8,13) returns true</li>\n",
    "        <li>Array(1,1) returns false</li>\n",
    "        <li>Array(1,1,2,3,5,9,13) returns false</li>\n",
    "        <li>Array(4,8,12,20,32) returns true</li>\n",
    "    </ul>\n",
    "</ol>\n",
    "\n"
   ]
  },
  {
   "cell_type": "code",
   "execution_count": 1,
   "metadata": {},
   "outputs": [
    {
     "data": {
      "text/plain": [
       "Intitializing Scala interpreter ..."
      ]
     },
     "metadata": {},
     "output_type": "display_data"
    },
    {
     "data": {
      "text/plain": [
       "Spark Web UI available at http://localhost:4044\n",
       "SparkContext available as 'sc' (version = 3.2.0, master = local[*], app id = local-1644035822572)\n",
       "SparkSession available as 'spark'\n"
      ]
     },
     "metadata": {},
     "output_type": "display_data"
    },
    {
     "data": {
      "text/plain": [
       "isThreeSorted: [A](a: Array[A], p: (A, A, A) => Boolean)Boolean\n"
      ]
     },
     "execution_count": 1,
     "metadata": {},
     "output_type": "execute_result"
    }
   ],
   "source": [
    "//Your function goes here\n",
    "\n",
    "def isThreeSorted[A] (a: Array[A], p: (A,A,A) => Boolean): Boolean = {\n",
    "  @annotation.tailrec\n",
    "  def loop(i: Int): Boolean =\n",
    "    if (i >= a.length-2) true\n",
    "    else if (!p(a(i),a(i+1),a(i+2))) false\n",
    "    else loop(i + 1)\n",
    "    \n",
    "  if (a.length<3) false\n",
    "  else loop(0)\n",
    "}"
   ]
  },
  {
   "cell_type": "markdown",
   "metadata": {},
   "source": [
    "<h1>Alphabetical tests</h1>"
   ]
  },
  {
   "cell_type": "code",
   "execution_count": 2,
   "metadata": {},
   "outputs": [
    {
     "data": {
      "text/plain": [
       "alpha: (x: Array[String])Boolean\n",
       "t1: Boolean = true\n",
       "t2: Boolean = false\n",
       "t3: Boolean = false\n"
      ]
     },
     "execution_count": 2,
     "metadata": {},
     "output_type": "execute_result"
    }
   ],
   "source": [
    "def alpha(x: Array[String]) = isThreeSorted(x, (a:String,b:String,c:String) => (a<b) & (b<c))//code goes here\n",
    "\n",
    "\n",
    "val t1 = alpha(Array(\"John\",\"Mary\",\"Qing\")) //Returns true\n",
    "val t2 = alpha(Array(\"James\", \"Jones\", \"Earl\")) //Returns false\n",
    "val t3 = alpha(Array(\"1\",\"alpha\",\"!89\")) //Returns false"
   ]
  },
  {
   "cell_type": "markdown",
   "metadata": {},
   "source": [
    "<h1>Length tests</h1>\n"
   ]
  },
  {
   "cell_type": "code",
   "execution_count": 3,
   "metadata": {},
   "outputs": [
    {
     "data": {
      "text/plain": [
       "len: (x: Array[String])Boolean\n",
       "t3: Boolean = true\n",
       "t4: Boolean = false\n"
      ]
     },
     "execution_count": 3,
     "metadata": {},
     "output_type": "execute_result"
    }
   ],
   "source": [
    "def len(x: Array[String]) = isThreeSorted(x, (a:String,b:String,c:String) => (a.length<b.length) & (b.length<c.length))//code goes here\n",
    "\n",
    "val t3 = len(Array(\"John\", \"Basquiat\", \"Annapurna\")) //Returns true\n",
    "val t4 = len(Array(\"John\", \"Basquiat\", \"Annapurna\", \"Yoda\")) //Returns false"
   ]
  },
  {
   "cell_type": "markdown",
   "metadata": {},
   "source": [
    "<h1>Fibonacci like test</h1>"
   ]
  },
  {
   "cell_type": "code",
   "execution_count": 4,
   "metadata": {},
   "outputs": [
    {
     "data": {
      "text/plain": [
       "fib_like_test: (x: Array[Int])Boolean\n",
       "t4: Boolean = true\n",
       "t5: Boolean = false\n",
       "t6: Boolean = false\n",
       "t7: Boolean = true\n",
       "t8: Boolean = true\n"
      ]
     },
     "execution_count": 4,
     "metadata": {},
     "output_type": "execute_result"
    }
   ],
   "source": [
    "def fib_like_test(x: Array[Int]) = isThreeSorted(x, (a:Int,b:Int,c:Int) => a+b==c)//code goes here\n",
    "\n",
    "val t4 = fib_like_test(Array(1,1,2,3,5,8,13)) //Returns true\n",
    "val t5 = fib_like_test(Array(1,1)) //Returns false\n",
    "val t6 = fib_like_test(Array(1,1,2,3,5,9,13)) //Returns false\n",
    "val t7 = fib_like_test(Array(3,5,8)) //Returns true\n",
    "val t8 = fib_like_test(Array(4,8,12,20,32)) //Returns true\n"
   ]
  },
  {
   "cell_type": "markdown",
   "metadata": {},
   "source": [
    "<h1>Problem 2</h1>\n",
    "Write a function <b>extract</b> that takes two arguments, a string and an integer, and returns a string containing every i-th character from the string.  Your function should be tail recursive\n",
    "\n",
    "Note a couple of things:\n",
    "<ul>\n",
    "    <li>The first character returned is the first character in the string</li>\n",
    "    <li>If the string is empty, an empty string is returned</li>\n",
    "</ul>\n",
    "        \n",
    "<span style=\"color:green;font-size:x-large\">Example walkthrough</span>\n",
    "<p>\n",
    "extract(\"7XY9BC8FF4DX\",3)<p>\n",
    "returns 7984 because\n",
    "<li> The first character is 7\n",
    "<li> The second character is at 0 + 3 and the value at 3 is 9\n",
    "<li> The third character is at 3 + 3 and the value at 6 is 8\n",
    "<li> The fourth character is at 6 + 3 and the value at 9 is 4\n",
    "<li> 9 + 3 = 12 is beyond the end of the string so the function ends there\n"
   ]
  },
  {
   "cell_type": "code",
   "execution_count": 5,
   "metadata": {},
   "outputs": [
    {
     "data": {
      "text/plain": [
       "extract: (a: String, b: Int)String\n"
      ]
     },
     "execution_count": 5,
     "metadata": {},
     "output_type": "execute_result"
    }
   ],
   "source": [
    "//Your code goes here\n",
    "def extract (a: String, b:Int): String = {\n",
    "  @annotation.tailrec\n",
    "  def loop(i: Int, c:String): String =\n",
    "    if (i>=a.length) c\n",
    "    else loop(i+b,c+a(i))\n",
    "    \n",
    "  loop(0,\"\")\n",
    "}"
   ]
  },
  {
   "cell_type": "markdown",
   "metadata": {},
   "source": [
    "<h2>Tests</h2>"
   ]
  },
  {
   "cell_type": "code",
   "execution_count": 6,
   "metadata": {},
   "outputs": [
    {
     "data": {
      "text/plain": [
       "e1: String = 7984\n",
       "e2: String = \"\"\n",
       "e3: String = Hello\n"
      ]
     },
     "execution_count": 6,
     "metadata": {},
     "output_type": "execute_result"
    }
   ],
   "source": [
    "\n",
    "val e1 = extract(\"7XY9BC8FF4DX\",3) //Returns 7984\n",
    "val e2 = extract(\"\",1) //Returns \"\"\n",
    "val e3 = extract(\"Hello\",1) //Returns Hello"
   ]
  },
  {
   "cell_type": "markdown",
   "metadata": {},
   "source": [
    "<h1>Problem 3</h1>\n",
    "Write a higher order version of extract (call it ho_extract) that takes a string and a function, f(Int) and returns every f(Int)-th character of the string. Note a couple of things:\n",
    "<ul>\n",
    "    <li>The first character returned is the first character in the string</li>\n",
    "    <li>If the string is empty, an empty string is returned</li>\n",
    "    <li>f(Int) must return an Int</li> \n",
    "    <li>f(Int) takes values 1, 2, 3, etc. Value 1 corresponds to the 0-th location in the string, value 2 to the 1-th location, etc. </li>\n",
    "    <li>Note that you'll get an endless recursion if the function doesn't return an Int >=1 so be careful!</li>\n",
    "</ul>\n",
    "\n",
    "Once you've tested out the function with the two tests below, add a third test in which the increment is i*3/2. For the string \"\"Joe Biden is the President\", your call should return \"JoBs\" (a coincidence, I swear!)\n",
    "\n"
   ]
  },
  {
   "cell_type": "code",
   "execution_count": 7,
   "metadata": {},
   "outputs": [
    {
     "data": {
      "text/plain": [
       "ho_extract: (a: String, f: Int => Int)String\n"
      ]
     },
     "execution_count": 7,
     "metadata": {},
     "output_type": "execute_result"
    }
   ],
   "source": [
    "//Your code goes here\n",
    "def ho_extract (a: String, f:Int => Int): String = {\n",
    "  @annotation.tailrec\n",
    "  def loop(i: Int, c:String): String =\n",
    "    if (i>=a.length+1) c\n",
    "    else if (f(i)<1) throw new IllegalArgumentException(\"function returns illegal output\")\n",
    "    else loop(i+f(i),c+a(i-1))\n",
    "    \n",
    "    loop(1,\"\")\n",
    "\n",
    "}"
   ]
  },
  {
   "cell_type": "markdown",
   "metadata": {},
   "source": [
    "<h2>Tests</h2>"
   ]
  },
  {
   "cell_type": "code",
   "execution_count": 8,
   "metadata": {},
   "outputs": [
    {
     "data": {
      "text/plain": [
       "h1: String = \"\"\n",
       "h2: String = 7YF\n"
      ]
     },
     "execution_count": 8,
     "metadata": {},
     "output_type": "execute_result"
    }
   ],
   "source": [
    "val h1 = ho_extract(\"\",(i: Int)=>(i*2).toInt) //Returns \"\"\n",
    "val h2 = ho_extract(\"7XY9BC8FF4DX\",(i: Int)=>(i*2)) //Returns \"7YF\"\n"
   ]
  },
  {
   "cell_type": "code",
   "execution_count": 9,
   "metadata": {},
   "outputs": [
    {
     "data": {
      "text/plain": [
       "h3: String = JoBs\n",
       "h4: String = 125\n"
      ]
     },
     "execution_count": 9,
     "metadata": {},
     "output_type": "execute_result"
    }
   ],
   "source": [
    "//Test case where the increment is index*3/2\n",
    "\n",
    "\n",
    "\n",
    "val h3 = ho_extract(\"Joe Biden is the President\",(i: Int)=>(i*3/2)) //Returns \"JoBs\"\n",
    "val h4 = ho_extract(\"1234567890\",(i: Int)=>(i*3/2)) //Returns \"125\"\n",
    "\n"
   ]
  },
  {
   "cell_type": "code",
   "execution_count": null,
   "metadata": {},
   "outputs": [],
   "source": []
  }
 ],
 "metadata": {
  "kernelspec": {
   "display_name": "spylon-kernel",
   "language": "scala",
   "name": "spylon-kernel"
  },
  "language_info": {
   "codemirror_mode": "text/x-scala",
   "file_extension": ".scala",
   "help_links": [
    {
     "text": "MetaKernel Magics",
     "url": "https://metakernel.readthedocs.io/en/latest/source/README.html"
    }
   ],
   "mimetype": "text/x-scala",
   "name": "scala",
   "pygments_lexer": "scala",
   "version": "0.4.1"
  },
  "toc": {
   "base_numbering": 1,
   "nav_menu": {},
   "number_sections": true,
   "sideBar": true,
   "skip_h1_title": false,
   "title_cell": "Table of Contents",
   "title_sidebar": "Contents",
   "toc_cell": false,
   "toc_position": {},
   "toc_section_display": true,
   "toc_window_display": false
  }
 },
 "nbformat": 4,
 "nbformat_minor": 2
}
