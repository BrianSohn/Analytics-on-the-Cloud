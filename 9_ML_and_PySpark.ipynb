{
 "cells": [
  {
   "cell_type": "markdown",
   "metadata": {},
   "source": [
    "<br><br><br>\n",
    "\n",
    "\n",
    "<span style=\"color:red;font-size:60px\">PySpark ML Practice Assignment</span>\n",
    "<br><br><br>\n",
    "In this assignment, we'll compare the results of a random forest classifier with the results from a logistic regression classifier on the California housing data. Working with python gives us access to easy graphics (matplotlib.pyplot) so we can draw ROC curves and precision-recall curves easily. We'll also get some practice with other feature transformers available in Spark.\n",
    "\n",
    "Just follow the steps below - carefully - and you should not have a problem\n"
   ]
  },
  {
   "cell_type": "markdown",
   "metadata": {},
   "source": [
    "<br><br><br>\n",
    "<span style=\"color:green;font-size:xx-large\">STEP 1: Initialize PySpark</span>"
   ]
  },
  {
   "cell_type": "code",
   "execution_count": 15,
   "metadata": {},
   "outputs": [],
   "source": [
    "# ignore warnings \n",
    "import warnings\n",
    "warnings.filterwarnings(\"ignore\")\n",
    "\n",
    "#Pyspark initialization code goes here\n",
    "import pyspark\n",
    "from pyspark.sql import SparkSession\n",
    "spark = SparkSession.builder.appName(\"PySpark ML Basics\").getOrCreate()\n",
    "sc = spark.sparkContext"
   ]
  },
  {
   "cell_type": "markdown",
   "metadata": {},
   "source": [
    "<br><br><br>\n",
    "<span style=\"color:green;font-size:xx-large\">STEP 2: necessary imports</span>\n",
    "<li>I've done these, hopefully, for you</li>"
   ]
  },
  {
   "cell_type": "code",
   "execution_count": 16,
   "metadata": {},
   "outputs": [],
   "source": [
    "from pyspark.sql.types import *\n",
    "from pyspark.sql.functions import col\n",
    "from pyspark.ml.feature import QuantileDiscretizer\n",
    "from pyspark.ml.feature import VectorAssembler\n",
    "from pyspark.ml.classification import RandomForestClassifier\n",
    "\n",
    "from pyspark.ml import Pipeline, PipelineModel\n",
    "from pyspark.ml.evaluation import MulticlassClassificationEvaluator\n",
    "from pyspark.ml.classification import LogisticRegression\n",
    "from pyspark.ml.evaluation import BinaryClassificationEvaluator"
   ]
  },
  {
   "cell_type": "markdown",
   "metadata": {},
   "source": [
    "<br><br><br>\n",
    "<span style=\"color:green;font-size:xx-large\">STEP 3: Read the data and split into training and testing sets</span>\n",
    "<li>Convert the Scala Spark function into a PySpark function</li>"
   ]
  },
  {
   "cell_type": "code",
   "execution_count": 17,
   "metadata": {},
   "outputs": [],
   "source": [
    "from pyspark.sql import DataFrame\n",
    "\n",
    "\n",
    "def readData(): \n",
    "    df = spark.read.format(\"csv\")\\\n",
    "        .option(\"header\",\"false\")\\\n",
    "        .option(\"inferschema\",\"true\")\\\n",
    "        .load(\"cal_housing.data\")\\\n",
    "        .toDF(\"Longitude\",\"Latitude\",\"MedianAge\",\\\n",
    "                     \"TotalRooms\",\"TotalBedrooms\",\"Population\",\"Households\",\\\n",
    "                     \"MedianIncome\",\"MedianHomeValue\") #Code to read data into a dataframe goes here\n",
    "    \n",
    "    train,test = df.randomSplit((0.8,0.2),seed=1234)\n",
    "    return train,test\n",
    "\n",
    "train,test = readData()"
   ]
  },
  {
   "cell_type": "markdown",
   "metadata": {},
   "source": [
    "<br><br><br>\n",
    "<span style=\"color:green;font-size:xx-large\">STEP 4: Write the prepareData function</span>\n",
    "<li>Convert the Scala Spark function into a PySpark function</li>"
   ]
  },
  {
   "cell_type": "code",
   "execution_count": 18,
   "metadata": {},
   "outputs": [
    {
     "data": {
      "text/plain": [
       "DataFrame[label: double, MedianAge: double, Population: double, Households: double, MedianIncome: double, RoomsPerHouse: double, PeoplePerHouse: double, BedroomsPerHouse: double, Latitude: double, Longitude: double]"
      ]
     },
     "execution_count": 18,
     "metadata": {},
     "output_type": "execute_result"
    }
   ],
   "source": [
    "from pyspark.sql import DataFrame\n",
    "\n",
    "\n",
    "def prepareData(df): \n",
    "    df2 = df.withColumn(\"MedianHomeValue\",col(\"MedianHomeValue\")/100000)\\\n",
    "    .withColumn(\"RoomsPerHouse\", col(\"TotalRooms\")/col(\"Households\"))\\\n",
    "        .withColumn(\"PeoplePerHouse\", col(\"Population\")/col(\"Households\"))\\\n",
    "        .withColumn(\"BedroomsPerHouse\", col(\"TotalBedrooms\")/col(\"Households\"))\\\n",
    "        .select(\"MedianHomeValue\", \\\n",
    "                  \"MedianAge\", \\\n",
    "                  \"Population\", \\\n",
    "                  \"Households\", \\\n",
    "                  \"MedianIncome\", \\\n",
    "                  \"RoomsPerHouse\", \\\n",
    "                  \"PeoplePerHouse\", \\\n",
    "                  \"BedroomsPerHouse\",\\\n",
    "                   \"Latitude\",\\\n",
    "                   \"Longitude\")\\\n",
    "        .withColumnRenamed(\"MedianHomeValue\",\"label\")\n",
    "    #Rest of the code goes here\n",
    "\n",
    "    \n",
    "    \n",
    "    return df2\n",
    "\n",
    "prepareData(train)"
   ]
  },
  {
   "cell_type": "markdown",
   "metadata": {},
   "source": [
    "<br><br><br>\n",
    "<span style=\"color:green;font-size:xx-large\">STEP 5: Transform the dependent variable into two buckets</span>\n",
    "\n",
    "<li>Use QuantileDiscretizer with two buckets</li>\n",
    "<li>QuantileDiscretizer bins a continuous column into n buckets across the range of values in that column</li>\n",
    "<li>When n=2, we'll get 0 and 1 as the two values setting up the dv as a binary classification problem</li>\n",
    "<li>Note: In this case, the interpretation of the dv is:\n",
    "    <ul>\n",
    "        <li>0: low median housing value</li>\n",
    "        <li>1: high median housing value</li>\n",
    "    </ul>\n",
    "<li><a href=\"https://spark.apache.org/docs/latest/ml-features#quantilediscretizer\">https://spark.apache.org/docs/latest/ml-features#quantilediscretizer</a></li>\n"
   ]
  },
  {
   "cell_type": "code",
   "execution_count": 19,
   "metadata": {},
   "outputs": [],
   "source": [
    "discretizer = QuantileDiscretizer(numBuckets=2, inputCol=\"label\", outputCol=\"DVBucket\")\n",
    "\n",
    "bucketizer = discretizer.fit(prepareData(train))\n",
    "bucketed = bucketizer.transform(prepareData(train))\n"
   ]
  },
  {
   "cell_type": "code",
   "execution_count": 20,
   "metadata": {},
   "outputs": [
    {
     "data": {
      "text/plain": [
       "DataFrame[label: double, MedianAge: double, Population: double, Households: double, MedianIncome: double, RoomsPerHouse: double, PeoplePerHouse: double, BedroomsPerHouse: double, Latitude: double, Longitude: double, DVBucket: double]"
      ]
     },
     "execution_count": 20,
     "metadata": {},
     "output_type": "execute_result"
    }
   ],
   "source": [
    "bucketed"
   ]
  },
  {
   "cell_type": "markdown",
   "metadata": {},
   "source": [
    "<br><br><br>\n",
    "<span style=\"color:green;font-size:xx-large\">STEP 6: Assemble the independent variables in a features vector</span>\n",
    "<li>Use VectorAssembler for this (the same as what we did in the class!</li>"
   ]
  },
  {
   "cell_type": "code",
   "execution_count": 21,
   "metadata": {},
   "outputs": [
    {
     "name": "stdout",
     "output_type": "stream",
     "text": [
      "+--------+--------------------+\n",
      "|DVBucket|            features|\n",
      "+--------+--------------------+\n",
      "|     0.0|[52.0,806.0,270.0...|\n",
      "|     0.0|[17.0,1244.0,456....|\n",
      "|     0.0|[36.0,1194.0,465....|\n",
      "|     0.0|[32.0,434.0,187.0...|\n",
      "|     0.0|[52.0,1152.0,435....|\n",
      "|     0.0|[52.0,544.0,172.0...|\n",
      "|     0.0|[11.0,1343.0,479....|\n",
      "|     0.0|[28.0,1530.0,653....|\n",
      "|     0.0|[32.0,620.0,268.0...|\n",
      "|     0.0|[20.0,1993.0,721....|\n",
      "|     0.0|[17.0,1947.0,647....|\n",
      "|     0.0|[21.0,2907.0,972....|\n",
      "|     0.0|[30.0,1367.0,583....|\n",
      "|     0.0|[37.0,640.0,260.0...|\n",
      "|     0.0|[15.0,1645.0,640....|\n",
      "|     0.0|[35.0,480.0,179.0...|\n",
      "|     0.0|[33.0,656.0,236.0...|\n",
      "|     0.0|[34.0,950.0,317.0...|\n",
      "|     0.0|[37.0,867.0,310.0...|\n",
      "|     0.0|[40.0,788.0,279.0...|\n",
      "+--------+--------------------+\n",
      "only showing top 20 rows\n",
      "\n"
     ]
    }
   ],
   "source": [
    "from pyspark.ml.feature import VectorAssembler\n",
    "from pyspark.ml.linalg import Matrix, Vectors\n",
    "\n",
    "#Get the names of all columns except MedianHomeValue\n",
    "cols = prepareData(train).columns\n",
    "cols.remove(\"label\") # I changed MedianHomeValue -> label since we already changed the name in prepareData.\n",
    "\n",
    "#Create a vectorassembler from the list of columns and specify the name of the column of vectors\n",
    "assembler = VectorAssembler(inputCols=cols, outputCol=\"features\")\n",
    "\n",
    "#Apply the transform function on the data frame, select the dv and features column\n",
    "#And rename the dv column to label\n",
    "\n",
    "vector_df = assembler.transform(bucketed).select(\"DVBucket\", \"features\") \n",
    "# I kept the name DVBucket for consistency with template in step 7. \n",
    "\n",
    "vector_df.show()"
   ]
  },
  {
   "cell_type": "markdown",
   "metadata": {},
   "source": [
    "<br><br><br><br>\n",
    "<span style=\"color:red;font-size:40px\">ML Models: Logistic Regression and Random Forest</span>\n",
    "<br><br>\n",
    "In this assignment, we'll build a logistic regression model and a random forest classifer and then compare the results on the two models. For this, we need to do the following:\n",
    "<li>Create a pipeline for the logistic regression model</li>\n",
    "<li>Create a pipeline for the random forest model</li>\n",
    "<li>Evaluate and compare both models</li>\n",
    "<li><a href=\"https://spark.apache.org/docs/latest/ml-classification-regression.html\">https://spark.apache.org/docs/latest/ml-classification-regression.html</a></li>"
   ]
  },
  {
   "cell_type": "markdown",
   "metadata": {},
   "source": [
    "<br><br><br>\n",
    "<span style=\"color:green;font-size:xx-large\">STEP 7: Create the two classifers</span>\n",
    "\n"
   ]
  },
  {
   "cell_type": "code",
   "execution_count": 22,
   "metadata": {},
   "outputs": [],
   "source": [
    "#I've done this\n",
    "\n",
    "rrr = RandomForestClassifier()\\\n",
    "    .setFeaturesCol(\"features\")\\\n",
    "    .setLabelCol(\"DVBucket\")\n",
    "\n",
    "logrr = LogisticRegression()\\\n",
    "    .setFeaturesCol(\"features\")\\\n",
    "    .setLabelCol(\"DVBucket\")\n",
    "\n",
    "\n"
   ]
  },
  {
   "cell_type": "markdown",
   "metadata": {},
   "source": [
    "<br><br><br>\n",
    "<span style=\"color:green;font-size:xx-large\">STEP 8: Create the two pipelines</span>\n",
    "\n",
    "<li>Create p1 with two stages: the bucketizer that uses QuantileDiscretizer and the assembler</li>\n",
    "<li>Create p2 with two stages: p1 and logistic regression</li>\n",
    "<li>Create p3 with two stages: p1 and random forest classifier</li>"
   ]
  },
  {
   "cell_type": "code",
   "execution_count": 23,
   "metadata": {},
   "outputs": [],
   "source": [
    "p1 = Pipeline(stages=[discretizer, assembler])\n",
    "p2 = Pipeline(stages=[p1, logrr])\n",
    "p3 = Pipeline(stages=[p1, rrr])"
   ]
  },
  {
   "cell_type": "markdown",
   "metadata": {},
   "source": [
    "<br><br><br>\n",
    "<span style=\"color:green;font-size:xx-large\">STEP 9: Run the two pipelines with training data</span>\n"
   ]
  },
  {
   "cell_type": "code",
   "execution_count": 24,
   "metadata": {},
   "outputs": [],
   "source": [
    "lrmodel = p2.fit(prepareData(train))\n",
    "rcmodel = p3.fit(prepareData(train))"
   ]
  },
  {
   "cell_type": "markdown",
   "metadata": {},
   "source": [
    "<br><br><br>\n",
    "<span style=\"color:green;font-size:xx-large\">STEP 10: Get predictions for both models</span>\n",
    "\n"
   ]
  },
  {
   "cell_type": "code",
   "execution_count": 25,
   "metadata": {},
   "outputs": [],
   "source": [
    "lr_pred = lrmodel.transform(prepareData(test))\n",
    "rc_pred = rcmodel.transform(prepareData(test))\n"
   ]
  },
  {
   "cell_type": "markdown",
   "metadata": {},
   "source": [
    "<br><br><br>\n",
    "<span style=\"color:green;font-size:xx-large\">STEP 11: Print testing stats for each model</span>\n",
    "<li>Accuracy</li>\n",
    "<li>Area under ROC</li>\n",
    "<li>Area under Precision-Recall curve</li>\n",
    "<li>Use <a href=\"https://spark.apache.org/docs/latest/api/python/reference/api/pyspark.ml.evaluation.BinaryClassificationEvaluator.html#pyspark.ml.evaluation.BinaryClassificationEvaluator.metricName\">BinaryClassificationEvaluator</a> for the area under ROC and area under precision-recall curve</li>\n",
    "<li>Use <a href=\"https://spark.apache.org/docs/latest//api/python/reference/api/pyspark.ml.evaluation.MulticlassClassificationEvaluator.html\">MulticlassClassificationEvaluator</a> for accuracy</li>\n",
    "\n",
    "<li>You should see:</li>\n",
    "<pre>\n",
    "Test Area Under ROC Logisitic Regression 0.9197116200650872\n",
    "Test Area Under ROC Random Forest Classifier 0.903399057330368\n",
    "Test Area under PR Logistic Regression 0.921832503169575\n",
    "Test Area under PR Random Forest Classifier 0.9086782460923636\n",
    "Test Accuracy Logistic Regression 0.8415552855407047\n",
    "Test Accuracy Random Forest Classifier 0.8177399756986634\n",
    "</pre>"
   ]
  },
  {
   "cell_type": "code",
   "execution_count": 26,
   "metadata": {},
   "outputs": [
    {
     "name": "stdout",
     "output_type": "stream",
     "text": [
      "Test Area Under ROC Logisitic Regression 0.9197116200650872\n",
      "Test Area Under ROC Random Forest Classifier 0.9031608840801929\n",
      "Test Area Under PR Logisitic Regression 0.921832503169575\n",
      "Test Area Under PR Random Forest Classifier 0.9037801171639757\n",
      "Test Accuracy Logisitic Regression 0.8415552855407047\n",
      "Test Accuracy Random Forest Classifier 0.8184690157958687\n"
     ]
    }
   ],
   "source": [
    "# Area Under ROC\n",
    "biEvaluator = BinaryClassificationEvaluator(rawPredictionCol='rawPrediction', labelCol='DVBucket')\n",
    "biEvaluator.setMetricName(\"areaUnderROC\")\n",
    "print(\"Test Area Under ROC Logisitic Regression\" , biEvaluator.evaluate(lr_pred))\n",
    "print(\"Test Area Under ROC Random Forest Classifier\" , biEvaluator.evaluate(rc_pred)) # slightly different due to randomness\n",
    "\n",
    "# Area Under PR\n",
    "biEvaluator.setMetricName(\"areaUnderPR\")\n",
    "print(\"Test Area Under PR Logisitic Regression\" , biEvaluator.evaluate(lr_pred))\n",
    "print(\"Test Area Under PR Random Forest Classifier\" , biEvaluator.evaluate(rc_pred)) # slightly different due to randomness\n",
    "\n",
    "# Accuracy\n",
    "mulEvaluator = MulticlassClassificationEvaluator(predictionCol='prediction', labelCol='DVBucket', metricName='accuracy')\n",
    "print(\"Test Accuracy Logisitic Regression\" , mulEvaluator.evaluate(lr_pred))\n",
    "print(\"Test Accuracy Random Forest Classifier\" , mulEvaluator.evaluate(rc_pred)) # slightly different due to randomness"
   ]
  },
  {
   "cell_type": "markdown",
   "metadata": {},
   "source": [
    "<br><br><br>\n",
    "<span style=\"color:green;font-size:xx-large\">STEP 12: Print coefficients of the logistic regression</span>\n",
    "<li>Notice how this is different from the linear regression coefficients</li>\n",
    "<li>Still dominated by income but some other flavors have crept in</li>\n",
    "<li>Print this out nicely formatted. Each line should contain the feature and it's coefficient. Use a pandas dataframe. Example: </li>\n",
    "\n",
    "\n",
    "<pre>\n",
    "\tbeta\tfeature\n",
    "0\t0.025761\tMedianAge\n",
    "1\t-0.001325\tPopulation\n",
    "2\t0.004379\tHouseholds\n",
    "3\t1.316013\tMedianIncome\n",
    "4\t-0.239172\tRoomsPerHouse\n",
    "5\t0.000757\tPeoplePerHouse\n",
    "6\t1.604178\tBedroomsPerHouse\n",
    "7\t-1.731346\tLatitude\n",
    "8\t-1.720362\tLongitude\n",
    "\n",
    "</pre>"
   ]
  },
  {
   "cell_type": "code",
   "execution_count": 27,
   "metadata": {},
   "outputs": [
    {
     "data": {
      "text/html": [
       "<div>\n",
       "<style scoped>\n",
       "    .dataframe tbody tr th:only-of-type {\n",
       "        vertical-align: middle;\n",
       "    }\n",
       "\n",
       "    .dataframe tbody tr th {\n",
       "        vertical-align: top;\n",
       "    }\n",
       "\n",
       "    .dataframe thead th {\n",
       "        text-align: right;\n",
       "    }\n",
       "</style>\n",
       "<table border=\"1\" class=\"dataframe\">\n",
       "  <thead>\n",
       "    <tr style=\"text-align: right;\">\n",
       "      <th></th>\n",
       "      <th>beta</th>\n",
       "      <th>feature</th>\n",
       "    </tr>\n",
       "  </thead>\n",
       "  <tbody>\n",
       "    <tr>\n",
       "      <th>0</th>\n",
       "      <td>0.025761</td>\n",
       "      <td>MedianAge</td>\n",
       "    </tr>\n",
       "    <tr>\n",
       "      <th>1</th>\n",
       "      <td>-0.001325</td>\n",
       "      <td>Population</td>\n",
       "    </tr>\n",
       "    <tr>\n",
       "      <th>2</th>\n",
       "      <td>0.004379</td>\n",
       "      <td>Households</td>\n",
       "    </tr>\n",
       "    <tr>\n",
       "      <th>3</th>\n",
       "      <td>1.316013</td>\n",
       "      <td>MedianIncome</td>\n",
       "    </tr>\n",
       "    <tr>\n",
       "      <th>4</th>\n",
       "      <td>-0.239172</td>\n",
       "      <td>RoomsPerHouse</td>\n",
       "    </tr>\n",
       "    <tr>\n",
       "      <th>5</th>\n",
       "      <td>0.000757</td>\n",
       "      <td>PeoplePerHouse</td>\n",
       "    </tr>\n",
       "    <tr>\n",
       "      <th>6</th>\n",
       "      <td>1.604178</td>\n",
       "      <td>BedroomsPerHouse</td>\n",
       "    </tr>\n",
       "    <tr>\n",
       "      <th>7</th>\n",
       "      <td>-1.731346</td>\n",
       "      <td>Latitude</td>\n",
       "    </tr>\n",
       "    <tr>\n",
       "      <th>8</th>\n",
       "      <td>-1.720362</td>\n",
       "      <td>Longitude</td>\n",
       "    </tr>\n",
       "  </tbody>\n",
       "</table>\n",
       "</div>"
      ],
      "text/plain": [
       "       beta           feature\n",
       "0  0.025761         MedianAge\n",
       "1 -0.001325        Population\n",
       "2  0.004379        Households\n",
       "3  1.316013      MedianIncome\n",
       "4 -0.239172     RoomsPerHouse\n",
       "5  0.000757    PeoplePerHouse\n",
       "6  1.604178  BedroomsPerHouse\n",
       "7 -1.731346          Latitude\n",
       "8 -1.720362         Longitude"
      ]
     },
     "execution_count": 27,
     "metadata": {},
     "output_type": "execute_result"
    }
   ],
   "source": [
    "import pandas as pd\n",
    "\n",
    "coeff = lrmodel.stages[1].coefficients\n",
    "lrCoef = pd.DataFrame(list(zip(coeff, cols)),\n",
    "               columns =['beta', 'feature'])\n",
    "\n",
    "lrCoef"
   ]
  },
  {
   "cell_type": "markdown",
   "metadata": {},
   "source": [
    "<li>https://spark.apache.org/docs/latest/mllib-evaluation-metrics.html#binary-classification</li>"
   ]
  },
  {
   "cell_type": "markdown",
   "metadata": {},
   "source": [
    "<br><br><br>\n",
    "<span style=\"color:green;font-size:xx-large\">STEP 13: Draw testing ROC curves</span>\n",
    "<li>Arrange the two charts in a side by side grid, the first the ROC Curve for the LR model and the second the ROC curve for the RF model</li>\n",
    "<li>Include the areaUnderROC values in each chart</li>\n",
    "<li>For this, the easiest is to use sklearn's roc functionalities</li>\n",
    "<li>The predictions contain two useful columns, the probability and the dependent value bucket</li>\n",
    "<li>Extract these into a data frame</li>\n",
    "<li>Note that the probability is expressed as a pair (probability of 0 and probability of 1)</li>\n",
    "<li>Extract the probability of 1 from this (convert the df into an rdd, it will be easier!)</li>\n",
    "<li>Also convert all values to float from Spark DoubleType (sklearn won't understand DoubleType)</li>\n",
    "<li>You should see:</li>\n",
    "\n",
    "<img src=\"sample roc curve output.png\">"
   ]
  },
  {
   "cell_type": "code",
   "execution_count": 28,
   "metadata": {
    "scrolled": false
   },
   "outputs": [
    {
     "data": {
      "image/png": "[encoded data removed]",
      "text/plain": [
       "<Figure size 1152x432 with 2 Axes>"
      ]
     },
     "metadata": {
      "needs_background": "light"
     },
     "output_type": "display_data"
    }
   ],
   "source": [
    "import numpy as np\n",
    "import matplotlib.pyplot as plt\n",
    "from sklearn.metrics import roc_curve,auc\n",
    "%matplotlib inline\n",
    "\n",
    "fig, axes = plt.subplots(1,2,figsize=(16,6))\n",
    "fig.suptitle = \"Comparison of Models\"\n",
    "axes[0].set_title(\"ROC Curve LR Model\")\n",
    "axes[1].set_title(\"ROC Curve RF Model\")\n",
    "\n",
    "# function to draw ROC curve\n",
    "def draw_roc(nparr):\n",
    "    tval = nparr[:,0]\n",
    "    pval = nparr[:,1]\n",
    "    \n",
    "    (fpr, tpr, thresholds) = roc_curve(tval,pval)\n",
    "    area = auc(fpr,tpr)\n",
    "        \n",
    "    ax.plot(fpr,tpr,label = \"auc = %1.2f\"%area)\n",
    "    ax.plot([0, 1], [0, 1], 'r', linestyle='dashed') \n",
    "    #ax.set_xlim([0.0, 1.0])\n",
    "    #ax.set_ylim([0.0, 1.0])\n",
    "    ax.set_xlabel('FPR')\n",
    "    ax.set_ylabel('TPR')\n",
    "    ax.legend(loc=\"lower right\")\n",
    "    \n",
    "\n",
    "### ROC Curve LR Model\n",
    "lr_array = np.array(lr_pred.select(\"DVBucket\", \"probability\").rdd.map(lambda x: (float(x[0]), float(x[1][1]))).collect())\n",
    "\n",
    "ax = axes[0]\n",
    "draw_roc(lr_array)\n",
    "\n",
    "\n",
    "### ROC Curve RF Model\n",
    "rc_array = np.array(rc_pred.select(\"DVBucket\", \"probability\").rdd.map(lambda x: (float(x[0]), float(x[1][1]))).collect())\n",
    "\n",
    "ax = axes[1]\n",
    "draw_roc(rc_array)\n",
    "\n",
    "# as can be seen in step 11, the difference between sample auc for rf and my auc for rf is only 0.003, \n",
    "# but rounding made it seem more different than it actually is \n",
    "# (0.903, 0.906) became (0.90, 0.91)"
   ]
  },
  {
   "cell_type": "code",
   "execution_count": null,
   "metadata": {},
   "outputs": [],
   "source": []
  }
 ],
 "metadata": {
  "kernelspec": {
   "display_name": "Python 3 (ipykernel)",
   "language": "python",
   "name": "python3"
  },
  "language_info": {
   "codemirror_mode": {
    "name": "ipython",
    "version": 3
   },
   "file_extension": ".py",
   "mimetype": "text/x-python",
   "name": "python",
   "nbconvert_exporter": "python",
   "pygments_lexer": "ipython3",
   "version": "3.9.7"
  },
  "toc": {
   "base_numbering": 1,
   "nav_menu": {},
   "number_sections": true,
   "sideBar": true,
   "skip_h1_title": false,
   "title_cell": "Table of Contents",
   "title_sidebar": "Contents",
   "toc_cell": false,
   "toc_position": {},
   "toc_section_display": true,
   "toc_window_display": false
  }
 },
 "nbformat": 4,
 "nbformat_minor": 2
}
