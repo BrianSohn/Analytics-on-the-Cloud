{
 "cells": [
  {
   "cell_type": "markdown",
   "metadata": {},
   "source": [
    "<h1>Scala map problems</h1>\n",
    "<b>Note:</b> Please enter your problem solutions in the three cells immediately below this one. All other work should go below these two cells (and will be ignored by the graders!)"
   ]
  },
  {
   "cell_type": "code",
   "execution_count": 2,
   "metadata": {},
   "outputs": [
    {
     "data": {
      "text/plain": [
       "test_data: String = widgets 103.24,eggs 345.22,milk 231.25,widgets 123.11,milk 14.2\n",
       "inventory_value: (text: String)scala.collection.immutable.Map[String,Double]\n",
       "res1: scala.collection.immutable.Map[String,Double] = Map(widgets -> 226.35, eggs -> 345.22, milk -> 245.45)\n"
      ]
     },
     "execution_count": 2,
     "metadata": {},
     "output_type": "execute_result"
    }
   ],
   "source": [
    "//PROBLEM 1 SOLUTION\n",
    "val test_data = \"widgets 103.24,eggs 345.22,milk 231.25,widgets 123.11,milk 14.2\" \n",
    "\n",
    "//YOUR FUNCTION SHOULD GO HERE\n",
    "def inventory_value(text: String) = \n",
    "  text.split(\",\").map(i => i.split(\" \")).map(i => (i(0),i(1).toDouble)).groupBy(_._1).mapValues(x => x.map(i => i._2).sum)\n",
    "\n",
    "\n",
    "//Test your function here\n",
    "inventory_value(test_data)"
   ]
  },
  {
   "cell_type": "code",
   "execution_count": 3,
   "metadata": {},
   "outputs": [
    {
     "data": {
      "text/plain": [
       "test_data: String = able was i ere i saw elba, and that was before i was able and could see elba!\n",
       "letter_count: (text: String)scala.collection.immutable.Map[Char,Int]\n",
       "res2: scala.collection.immutable.Map[Char,Int] = Map(e -> 10, s -> 5, n -> 2, t -> 2, u -> 1, f -> 1, a -> 11, i -> 3, b -> 5, l -> 5, c -> 1, h -> 1, r -> 2, w -> 4, o -> 2, d -> 3)\n"
      ]
     },
     "execution_count": 3,
     "metadata": {},
     "output_type": "execute_result"
    }
   ],
   "source": [
    "//PROBLEM 2 SOLUTION\n",
    "val test_data = \"able was i ere i saw elba, and that was before i was able and could see elba!\"\n",
    "\n",
    "//YOUR FUNCTION SHOULD GO HERE\n",
    "def letter_count(text:String) = \n",
    "  text.toCharArray().filter(_.isLetter).map(i => (i,1)).groupBy(_._1).mapValues(x => x.map(i => i._2).sum)\n",
    "\n",
    "\n",
    "//Test your function here\n",
    "letter_count(test_data)"
   ]
  },
  {
   "cell_type": "code",
   "execution_count": 18,
   "metadata": {},
   "outputs": [
    {
     "data": {
      "text/plain": [
       "sample_essay: String =\n",
       "able was i ere i saw elba\n",
       "a man a plan a canal panama\n",
       "the future is uncertain and the end is always near\n",
       "essay_grade: (essay: String)Int\n",
       "res16: Int = 62\n"
      ]
     },
     "execution_count": 18,
     "metadata": {},
     "output_type": "execute_result"
    }
   ],
   "source": [
    "//PROBLEM 3 SOLUTION\n",
    "val sample_essay = \"\"\"able was i ere i saw elba\n",
    "a man a plan a canal panama\n",
    "the future is uncertain and the end is always near\"\"\"\n",
    "\n",
    "//Your function should go here\n",
    "def essay_grade(essay:String) = {\n",
    "\n",
    "  ((1-essay.split(\"\\n\").map(i => i.toCharArray.map(i => if ((i=='a')|(i=='e')|(i=='i')|(i=='o')|(i=='u')) 1 else 0)\n",
    "                            .reduce(_+_).toDouble/i.length).reduce(_+_)/essay.split(\"\\n\").length)*100).toInt\n",
    "}\n",
    "\n",
    "//Test your function here\n",
    "essay_grade(sample_essay)"
   ]
  },
  {
   "cell_type": "markdown",
   "metadata": {},
   "source": [
    "<h1>Problem 1</h1>\n",
    "\n",
    "Write a scala function \"inventory_value\" that takes a single argument, inventory, as an input and reports the total value of each item in the list. \n",
    "\n",
    "For example, if the inventory list is in the form:\n",
    "\"widgets 103.24,eggs 345.22,milk 231.25,widgets 123.11,milk 14.2” your function should output:\n",
    "\n",
    "res58: scala.collection.immutable.Map[String,Double] = Map(eggs -> 345.22, milk -> 245.45, widgets -> 226.35)\n",
    "\n",
    "\n",
    "You can assume that the string is well formed. I.e., there are no spaces other than the ones between the product name and the inventory value, that each item pair is separated by a comma, each item name is exactly one word, and each value is convertible into double without errors.\n",
    "\n",
    "Helpful functions:\n",
    "\n",
    "1. mapValues: m mapValues f applies f to the values of key,value pairs in m (you can\n",
    "get this using a group by operation) \n",
    "\n",
    "2. sum: adds up numbers in a collection\n",
    "Though you can use reduce for this, using mapValues and sum may be simpler"
   ]
  },
  {
   "cell_type": "code",
   "execution_count": 1,
   "metadata": {},
   "outputs": [
    {
     "data": {
      "text/plain": [
       "Intitializing Scala interpreter ..."
      ]
     },
     "metadata": {},
     "output_type": "display_data"
    },
    {
     "data": {
      "text/plain": [
       "Spark Web UI available at http://localhost:4042\n",
       "SparkContext available as 'sc' (version = 3.2.0, master = local[*], app id = local-1646627870150)\n",
       "SparkSession available as 'spark'\n"
      ]
     },
     "metadata": {},
     "output_type": "display_data"
    },
    {
     "data": {
      "text/plain": [
       "test_data: String = widgets 103.24,eggs 345.22,milk 231.25,widgets 123.11,milk 14.2\n"
      ]
     },
     "execution_count": 1,
     "metadata": {},
     "output_type": "execute_result"
    }
   ],
   "source": [
    "val test_data = \"widgets 103.24,eggs 345.22,milk 231.25,widgets 123.11,milk 14.2\" "
   ]
  },
  {
   "cell_type": "code",
   "execution_count": 2,
   "metadata": {},
   "outputs": [
    {
     "data": {
      "text/plain": [
       "a: Array[(String, Double)] = Array((widgets,103.24), (eggs,345.22), (milk,231.25), (widgets,123.11), (milk,14.2))\n",
       "res0: scala.collection.immutable.Map[String,Array[(String, Double)]] = Map(widgets -> Array((widgets,103.24), (widgets,123.11)), eggs -> Array((eggs,345.22)), milk -> Array((milk,231.25), (milk,14.2)))\n"
      ]
     },
     "execution_count": 2,
     "metadata": {},
     "output_type": "execute_result"
    }
   ],
   "source": [
    "val a = test_data.split(\",\").map(i => i.split(\" \")).map(i => (i(0),i(1).toDouble))\n",
    "a.groupBy(_._1)//.mapValues(x => x.map(i => i._2).sum)"
   ]
  },
  {
   "cell_type": "code",
   "execution_count": 6,
   "metadata": {},
   "outputs": [
    {
     "data": {
      "text/plain": [
       "x: Array[(Char, Int)] = Array((a,3), (b,2))\n",
       "res4: Int = 5\n"
      ]
     },
     "execution_count": 6,
     "metadata": {},
     "output_type": "execute_result"
    }
   ],
   "source": [
    "val x = Array(('a',3),('b',2))\n",
    "x.map(i => i._2).sum"
   ]
  },
  {
   "cell_type": "code",
   "execution_count": 7,
   "metadata": {},
   "outputs": [
    {
     "data": {
      "text/plain": [
       "res5: scala.collection.immutable.Map[String,Double] = Map(widgets -> 226.35, eggs -> 345.22, milk -> 245.45)\n"
      ]
     },
     "execution_count": 7,
     "metadata": {},
     "output_type": "execute_result"
    }
   ],
   "source": [
    "\n",
    "inventory_value(test_data) //should return\n",
    "//res1: scala.collection.immutable.Map[String,Double] = Map(eggs -> 345.22, milk -> 245.45, widgets -> 226.35)"
   ]
  },
  {
   "cell_type": "markdown",
   "metadata": {},
   "source": [
    "<h2>mapValues function</h2>"
   ]
  },
  {
   "cell_type": "code",
   "execution_count": 8,
   "metadata": {},
   "outputs": [
    {
     "data": {
      "text/plain": [
       "d: scala.collection.immutable.Map[Char,Int] = Map(a -> 12, b -> 15)\n",
       "res6: scala.collection.immutable.Map[Char,Int] = Map(a -> 144, b -> 225)\n"
      ]
     },
     "execution_count": 8,
     "metadata": {},
     "output_type": "execute_result"
    }
   ],
   "source": [
    "val d = Map('a' -> 12,'b'->15) // Creates a key --> value map\n",
    "d.mapValues(i => i*i) //Applies the function to the values of d "
   ]
  },
  {
   "cell_type": "markdown",
   "metadata": {},
   "source": [
    "<h1>problem 2</h1>\n",
    "Write a scala function that returns the count of each letter in a text string. \n",
    "\n",
    "For example, if the input string is \"able was i ere i saw elba, and that was before i was able and could see elba!”, your program should return:\n",
    "\n",
    "Map(e -> 10, s -> 5, n -> 2, t -> 2, u -> 1, f -> 1, a -> 11, i -> 3, b -> 5, l -> 5, c -> 1, h -> 1, r -> 2, w -> 4, o -> 2, d -> 3)\n",
    "\n",
    "Note that you should only count the letters and ignore all punctuation, numbers, spaces, or any special characters. \n",
    "\n",
    "The scala function isLetter returns true if a character is a letter and false otherwise."
   ]
  },
  {
   "cell_type": "code",
   "execution_count": 9,
   "metadata": {},
   "outputs": [
    {
     "data": {
      "text/plain": [
       "text: String = able was i ere i saw elba, and that was before i was able and could see elba!\n",
       "letter_count: (text: String)scala.collection.immutable.Map[Char,Int]\n",
       "res7: scala.collection.immutable.Map[Char,Int] = Map(e -> 10, s -> 5, n -> 2, t -> 2, u -> 1, f -> 1, a -> 11, i -> 3, b -> 5, l -> 5, c -> 1, h -> 1, r -> 2, w -> 4, o -> 2, d -> 3)\n"
      ]
     },
     "execution_count": 9,
     "metadata": {},
     "output_type": "execute_result"
    }
   ],
   "source": [
    "val text = \"able was i ere i saw elba, and that was before i was able and could see elba!\"\n",
    "def letter_count(text:String) = \n",
    "  text.toCharArray().filter(_.isLetter).map(i => (i,1)).groupBy(_._1).mapValues(x => x.map(i => i._2).sum)\n",
    "\n",
    "letter_count(text)\n",
    "//Should return:\n",
    "//scala.collection.immutable.Map[Char,Int] = Map(e -> 10, s -> 5, n -> 2, t -> 2, u -> 1, f -> 1, a -> 11, i -> 3, b -> 5, l -> 5, c -> 1, h -> 1, r -> 2, w -> 4, o -> 2, d -> 3)\n"
   ]
  },
  {
   "cell_type": "code",
   "execution_count": 10,
   "metadata": {},
   "outputs": [
    {
     "data": {
      "text/plain": [
       "text: String = able was i ere i saw elba, and that was before i was able and could see elba!\n",
       "res8: scala.collection.immutable.Map[Char,Int] = Map(e -> 10, s -> 5, n -> 2, t -> 2, u -> 1, f -> 1, a -> 11, i -> 3, b -> 5, l -> 5, c -> 1, h -> 1, r -> 2, w -> 4, o -> 2, d -> 3)\n"
      ]
     },
     "execution_count": 10,
     "metadata": {},
     "output_type": "execute_result"
    }
   ],
   "source": [
    "val text = \"able was i ere i saw elba, and that was before i was able and could see elba!\"\n",
    "text.toCharArray().filter(_.isLetter).map(i => (i,1)).groupBy(_._1).mapValues(x => x.map(i => i._2).sum)"
   ]
  },
  {
   "cell_type": "markdown",
   "metadata": {},
   "source": [
    "<h2>isLetter</h2>\n",
    "<li>returns true if a character is a letter of the alphabet and false otherwise"
   ]
  },
  {
   "cell_type": "code",
   "execution_count": 11,
   "metadata": {},
   "outputs": [
    {
     "data": {
      "text/plain": [
       "res9: Boolean = true\n"
      ]
     },
     "execution_count": 11,
     "metadata": {},
     "output_type": "execute_result"
    }
   ],
   "source": [
    "'p'.isLetter"
   ]
  },
  {
   "cell_type": "code",
   "execution_count": 12,
   "metadata": {},
   "outputs": [
    {
     "data": {
      "text/plain": [
       "res10: Boolean = false\n"
      ]
     },
     "execution_count": 12,
     "metadata": {},
     "output_type": "execute_result"
    }
   ],
   "source": [
    "'2'.isLetter"
   ]
  },
  {
   "cell_type": "code",
   "execution_count": 13,
   "metadata": {},
   "outputs": [
    {
     "data": {
      "text/plain": [
       "res11: Boolean = false\n"
      ]
     },
     "execution_count": 13,
     "metadata": {},
     "output_type": "execute_result"
    }
   ],
   "source": [
    "'?'.isLetter"
   ]
  },
  {
   "cell_type": "code",
   "execution_count": 14,
   "metadata": {},
   "outputs": [
    {
     "data": {
      "text/plain": [
       "res12: Boolean = false\n"
      ]
     },
     "execution_count": 14,
     "metadata": {},
     "output_type": "execute_result"
    }
   ],
   "source": [
    "' '.isLetter"
   ]
  },
  {
   "cell_type": "markdown",
   "metadata": {},
   "source": [
    "<h1>Problem 3</h1>\n",
    "An English teacher hates sentences with excessive vowels and wants you to write a program that can grade millions of SAT essays by calculating the average number of vowels per sentence in the essay. For example, if the essay contains the following text:\n",
    "\n",
    "able was I ere I saw elba<br>\n",
    "a man a plan a canal panama<br>\n",
    "the future is uncertain and the end is always near<br>\n",
    "\n",
    "then the essay gets a vowel score of 0.3701234567901235 since the vowel to character ratio in each sentence is: 0.4, 0.37037037037037035, 0.34. In this English teacher's world, characters include anything that is not a vowel (spaces, punctuation, etc.).\n",
    "\n",
    "Write a function <span style=\"color:blue\">essay_grade</span> that, for a given essay provided as an argument, calculates the vowel ratio and returns (1-the ratio) times 100 as the grade on the exam. The final grade should be returned as a truncated Int (62 for the example case). For the purposes of this problem, you must use both the map function as well as the reduce function and you can assume the text is in lower case (i.e., it should work for the example above)"
   ]
  },
  {
   "cell_type": "code",
   "execution_count": 15,
   "metadata": {},
   "outputs": [
    {
     "ename": "<console>",
     "evalue": "36: error: Unit does not take parameters",
     "output_type": "error",
     "traceback": [
      "<console>:36: error: Unit does not take parameters",
      "       essay_grade(sample_essay)",
      "                  ^",
      ""
     ]
    }
   ],
   "source": [
    "val sample_essay = \"\"\"able was i ere i saw elba\n",
    "a man a plan a canal panama\n",
    "the future is uncertain and the end is always near\"\"\"\n",
    "\n",
    "//Your function should go here\n",
    "def essay_grade\n",
    "\n",
    "\n",
    "//Test your function here\n",
    "essay_grade(sample_essay)"
   ]
  },
  {
   "cell_type": "code",
   "execution_count": null,
   "metadata": {},
   "outputs": [],
   "source": [
    "val sample_essay = \"\"\"able was i ere i saw elba\n",
    "a man a plan a canal panama\n",
    "the future is uncertain and the end is always near\"\"\"\n",
    "\n",
    "//essay_grade(sample_essay) //Should return 62\n",
    "\n",
    "val sentences = sample_essay.split(\"\\n\")\n",
    "val rates = sentences.map(i => i.toCharArray.map(i => if ((i=='a')|(i=='e')|(i=='i')|(i=='o')|(i=='u')) 1 else 0).reduce(_+_).toDouble/i.length)\n",
    "((1-rates.reduce(_+_)/rates.length)*100).toInt"
   ]
  },
  {
   "cell_type": "code",
   "execution_count": null,
   "metadata": {},
   "outputs": [],
   "source": [
    "\"able was i ere i saw elba\".toCharArray.map(i => if ((i=='a')|(i=='e')|(i=='i')|(i=='o')|(i=='u')) 1 else 0).reduce(_+_).toDouble"
   ]
  },
  {
   "cell_type": "code",
   "execution_count": null,
   "metadata": {},
   "outputs": [],
   "source": [
    "\"able was i ere i saw elba\".length"
   ]
  },
  {
   "cell_type": "code",
   "execution_count": null,
   "metadata": {},
   "outputs": [],
   "source": []
  }
 ],
 "metadata": {
  "kernelspec": {
   "display_name": "spylon-kernel",
   "language": "scala",
   "name": "spylon-kernel"
  },
  "language_info": {
   "codemirror_mode": "text/x-scala",
   "file_extension": ".scala",
   "help_links": [
    {
     "text": "MetaKernel Magics",
     "url": "https://metakernel.readthedocs.io/en/latest/source/README.html"
    }
   ],
   "mimetype": "text/x-scala",
   "name": "scala",
   "pygments_lexer": "scala",
   "version": "0.4.1"
  },
  "toc": {
   "base_numbering": 1,
   "nav_menu": {},
   "number_sections": true,
   "sideBar": true,
   "skip_h1_title": false,
   "title_cell": "Table of Contents",
   "title_sidebar": "Contents",
   "toc_cell": false,
   "toc_position": {},
   "toc_section_display": true,
   "toc_window_display": false
  }
 },
 "nbformat": 4,
 "nbformat_minor": 2
}
